{
  "nbformat": 4,
  "nbformat_minor": 0,
  "metadata": {
    "colab": {
      "name": "EDA Emotions Intensity.ipynb",
      "provenance": [],
      "collapsed_sections": []
    },
    "kernelspec": {
      "name": "python3",
      "display_name": "Python 3"
    }
  },
  "cells": [
    {
      "cell_type": "code",
      "metadata": {
        "colab": {
          "base_uri": "https://localhost:8080/"
        },
        "id": "4AmvCdZb8c9f",
        "outputId": "e77607f4-7f2b-4a87-88f5-f7064148ac60"
      },
      "source": [
        "%cd '/content/drive/My Drive/emotions_intensity'"
      ],
      "execution_count": 1,
      "outputs": [
        {
          "output_type": "stream",
          "text": [
            "/content/drive/My Drive/emotions_intensity\n"
          ],
          "name": "stdout"
        }
      ]
    },
    {
      "cell_type": "code",
      "metadata": {
        "id": "Bbnr5Aq38Tmq"
      },
      "source": [
        "import pandas as pd\n",
        "import nltk\n",
        "from nltk.corpus import stopwords\n",
        "from nltk.tokenize import word_tokenize\n",
        "from collections import Counter\n",
        "import wordcloud\n",
        "import numpy as np\n",
        "import re"
      ],
      "execution_count": 2,
      "outputs": []
    },
    {
      "cell_type": "code",
      "metadata": {
        "id": "MzsWL3tJ8jz-"
      },
      "source": [
        "DATA_DIR = 'data'\n",
        "T1_TRAIN = DATA_DIR+'/anger-ratings-0to1.train.txt'\n",
        "T1_TEST = DATA_DIR+ '/anger-ratings-0to1.test.gold.txt'\n",
        "T2_TRAIN = DATA_DIR+'/joy-ratings-0to1.train.txt'\n",
        "T2_TEST = DATA_DIR+'/joy-ratings-0to1.test.gold.txt'\n",
        "all_files = [T1_TRAIN,T1_TEST,T2_TRAIN,T2_TEST]"
      ],
      "execution_count": 3,
      "outputs": []
    },
    {
      "cell_type": "code",
      "metadata": {
        "id": "k9Ofz_939Bza"
      },
      "source": [
        "def read_data(data_file_path):\n",
        "    #df = pd.DataFrame(columns=['ID','article','emotion','score'])\n",
        "    data_list = list()\n",
        "    with open(data_file_path) as input_file:\n",
        "        for line in input_file:\n",
        "            line = line.strip()\n",
        "            array = line.split('\\t')\n",
        "            #print(array)\n",
        "            data_list.append([array[0], array[1], array[2], float(array[3])])\n",
        "            #df = df.append([[array[0],str(array[1]),array[2],float(array[3])]])\n",
        "    \n",
        "    return pd.DataFrame(data_list, columns=['ID','article','emotion','score'])"
      ],
      "execution_count": 4,
      "outputs": []
    },
    {
      "cell_type": "markdown",
      "metadata": {
        "id": "d4qwdYzwCPkN"
      },
      "source": [
        "# STATISTICS"
      ]
    },
    {
      "cell_type": "code",
      "metadata": {
        "colab": {
          "base_uri": "https://localhost:8080/"
        },
        "id": "VP3czW7M9FYt",
        "outputId": "c818e4f5-7cb3-42ee-af2d-152d1944ae23"
      },
      "source": [
        "columns = []\n",
        "records = {\"Samples\":[],\n",
        "           \"Duplicated Examples\":[],\n",
        "           \"Duplicated Articles\":[],\n",
        "           \"Mean Char Count (Articles)\":[],\n",
        "          \"Std Char Count (Articles)\":[],\n",
        "           \"Max Char Count (Articles)\":[],\n",
        "           \"Min Char Count (Articles)\":[],\n",
        "           \"Mean Word Count (Articles)\":[],\n",
        "           \"Std Word Count (Articles)\":[],\n",
        "           \"Max Word Count (Articles)\":[],\n",
        "           \"Min Word Count (Articles)\":[],\n",
        "          }\n",
        "\n",
        "for fil in all_files:\n",
        "    name_of_file = \" \".join(fil.split('/')[-1].split('.')[0:2])\n",
        "    columns.append(name_of_file)\n",
        "\n",
        "    df = read_data(fil)\n",
        "    #print(df.head())\n",
        "    records[\"Samples\"].append(df.shape[0])\n",
        "    records[\"Duplicated Examples\"].append(df[df.duplicated()].shape[0])\n",
        "\n",
        "    \n",
        "    records[\"Duplicated Articles\"].append(df[df[['article']].duplicated()].shape[0])\n",
        "    article_char_length = df['article'].apply(lambda x : len(x))\n",
        "    records[\"Mean Char Count (Articles)\"].append(article_char_length.mean())\n",
        "    records[\"Std Char Count (Articles)\"].append(article_char_length.std())\n",
        "    records[\"Max Char Count (Articles)\"].append(article_char_length.max())\n",
        "    records[\"Min Char Count (Articles)\"].append(article_char_length.min())\n",
        "    \n",
        "    article_word_length = df['article'].apply(lambda x : len(x.split()))\n",
        "    records[\"Mean Word Count (Articles)\"].append(article_word_length.mean())\n",
        "    records[\"Std Word Count (Articles)\"].append(article_word_length.std())\n",
        "    records[\"Max Word Count (Articles)\"].append(article_word_length.max())\n",
        "    records[\"Min Word Count (Articles)\"].append(article_word_length.min())\n",
        "    \n",
        "stats_df_words = pd.DataFrame.from_dict(records,columns=columns, orient=\"index\")\n",
        "print(stats_df_words.to_markdown(tablefmt=\"github\"))"
      ],
      "execution_count": 5,
      "outputs": [
        {
          "output_type": "stream",
          "text": [
            "|                            |   anger-ratings-0to1 train |   anger-ratings-0to1 test |   joy-ratings-0to1 train |   joy-ratings-0to1 test |\n",
            "|----------------------------|----------------------------|---------------------------|--------------------------|-------------------------|\n",
            "| Samples                    |                   857      |                 760       |                823       |               714       |\n",
            "| Duplicated Examples        |                     0      |                   0       |                  0       |                 0       |\n",
            "| Duplicated Articles        |                     0      |                   0       |                  0       |                 0       |\n",
            "| Mean Char Count (Articles) |                    92.6523 |                  95.8237  |                 95.1094  |                95.0798  |\n",
            "| Std Char Count (Articles)  |                    37.6789 |                  35.9481  |                 34.999   |                36.7963  |\n",
            "| Max Char Count (Articles)  |                   179      |                 150       |                157       |               166       |\n",
            "| Min Char Count (Articles)  |                     8      |                   6       |                  8       |                15       |\n",
            "| Mean Word Count (Articles) |                    15.6674 |                  16.3368  |                 15.5674  |                15.6919  |\n",
            "| Std Word Count (Articles)  |                     6.7466 |                   6.64612 |                  6.60752 |                 6.57658 |\n",
            "| Max Word Count (Articles)  |                    31      |                  31       |                 32       |                31       |\n",
            "| Min Word Count (Articles)  |                     1      |                   1       |                  2       |                 2       |\n"
          ],
          "name": "stdout"
        }
      ]
    },
    {
      "cell_type": "markdown",
      "metadata": {
        "id": "pNXT3gqfCRji"
      },
      "source": [
        "# MOST FREQUENT TOKENS"
      ]
    },
    {
      "cell_type": "code",
      "metadata": {
        "colab": {
          "base_uri": "https://localhost:8080/"
        },
        "id": "cry7_4i59Y74",
        "outputId": "40640190-1498-4ad4-f430-8c655a98d9d7"
      },
      "source": [
        "import nltk\n",
        "nltk.download('stopwords')\n",
        "nltk.download('punkt')\n",
        "sw = set(stopwords.words('english'))"
      ],
      "execution_count": 6,
      "outputs": [
        {
          "output_type": "stream",
          "text": [
            "[nltk_data] Downloading package stopwords to /root/nltk_data...\n",
            "[nltk_data]   Unzipping corpora/stopwords.zip.\n",
            "[nltk_data] Downloading package punkt to /root/nltk_data...\n",
            "[nltk_data]   Unzipping tokenizers/punkt.zip.\n"
          ],
          "name": "stdout"
        }
      ]
    },
    {
      "cell_type": "code",
      "metadata": {
        "id": "jtvCAiR_CXSP"
      },
      "source": [
        "counts = {\"Unique Token Count\":[],\"Total Count\":[]}\n",
        "columns = []\n",
        "all_freq_df = None\n",
        "for fil in all_files:\n",
        "    name_of_file = \" \".join(fil.split('/')[-1].split('.')[0:2])\n",
        "    columns.append(name_of_file)\n",
        "\n",
        "    df = read_data(fil)\n",
        "    df['article']=df['article'].apply(lambda x : x.lower())\n",
        "    text = df['article'].apply(lambda x: re.sub('[^a-zA-z0-9\\s]','',x))\n",
        "    text = text.apply(lambda x : word_tokenize(x))\n",
        "    text = text.apply(lambda x: np.array([y.lower() for y in x if y.lower() not in sw])).values\n",
        "    tokencount = {}\n",
        "    for split_sentence in text:\n",
        "        for token in split_sentence:\n",
        "            if(token in tokencount):\n",
        "                tokencount[token]+=1\n",
        "            else:\n",
        "                tokencount[token]=1\n",
        "    \n",
        "    counts[\"Unique Token Count\"].append(len(tokencount))\n",
        "    token_counter = Counter(tokencount)\n",
        "    total_count = np.sum(list(tokencount.values()))\n",
        "    counts[\"Total Count\"].append(total_count)\n",
        "    #print(\"Most Common Words\")\n",
        "    # print(\"=\"*30)\n",
        "   \n",
        "\n",
        "    rows = {\"Word\":[],\"Count\":[],\"Frequency\":[]}\n",
        "    for token,count in token_counter.most_common(20):\n",
        "        #print(f\"{token}: {count}, {count/total_count}\")\n",
        "        rows[\"Word\"].append(token)\n",
        "        rows[\"Count\"].append(count)\n",
        "        rows[\"Frequency\"].append(count/total_count)\n",
        "\n",
        "    freq_words_df = pd.DataFrame.from_dict(rows)\n",
        "    if(all_freq_df is None):\n",
        "        all_freq_df = freq_words_df\n",
        "    else:\n",
        "        all_freq_df = pd.concat([all_freq_df,freq_words_df],axis=1)\n",
        "    \n",
        "counts_df = pd.DataFrame.from_dict(counts,orient=\"index\",columns=columns)\n"
      ],
      "execution_count": 7,
      "outputs": []
    },
    {
      "cell_type": "code",
      "metadata": {
        "colab": {
          "base_uri": "https://localhost:8080/"
        },
        "id": "fhue5CZfCovA",
        "outputId": "3a62f799-b87f-42f9-d724-ed7d8a2b927c"
      },
      "source": [
        "print(counts_df.to_markdown(tablefmt=\"github\"))"
      ],
      "execution_count": 8,
      "outputs": [
        {
          "output_type": "stream",
          "text": [
            "|                    |   anger-ratings-0to1 train |   anger-ratings-0to1 test |   joy-ratings-0to1 train |   joy-ratings-0to1 test |\n",
            "|--------------------|----------------------------|---------------------------|--------------------------|-------------------------|\n",
            "| Unique Token Count |                       3360 |                      3153 |                     3313 |                    2995 |\n",
            "| Total Count        |                       7925 |                      7394 |                     7757 |                    6632 |\n"
          ],
          "name": "stdout"
        }
      ]
    },
    {
      "cell_type": "code",
      "metadata": {
        "colab": {
          "base_uri": "https://localhost:8080/"
        },
        "id": "lXsxzYn3Cv8D",
        "outputId": "b71effb4-8d57-436b-c379-83ba116c1f45"
      },
      "source": [
        "print(all_freq_df.to_markdown(tablefmt=\"github\"))"
      ],
      "execution_count": 9,
      "outputs": [
        {
          "output_type": "stream",
          "text": [
            "|    | Word     |   Count |   Frequency | Word    |   Count |   Frequency | Word      |   Count |   Frequency | Word      |   Count |   Frequency |\n",
            "|----|----------|---------|-------------|---------|---------|-------------|-----------|---------|-------------|-----------|---------|-------------|\n",
            "|  0 | im       |      75 |  0.00946372 | im      |      64 |  0.00865567 | lively    |      98 |  0.0126338  | happy     |      80 |  0.0120627  |\n",
            "|  1 | like     |      68 |  0.00858044 | like    |      53 |  0.00716797 | im        |      70 |  0.00902411 | amp       |      49 |  0.00738842 |\n",
            "|  2 | anger    |      53 |  0.0066877  | dont    |      47 |  0.00635651 | happy     |      68 |  0.00876628 | love      |      49 |  0.00738842 |\n",
            "|  3 | dont     |      52 |  0.00656151 | get     |      45 |  0.00608602 | watch     |      68 |  0.00876628 | im        |      48 |  0.00723764 |\n",
            "|  4 | people   |      51 |  0.00643533 | people  |      40 |  0.00540979 | amazing   |      63 |  0.0081217  | smile     |      40 |  0.00603136 |\n",
            "|  5 | angry    |      47 |  0.0059306  | angry   |      37 |  0.00500406 | broadcast |      54 |  0.00696145 | hilarious |      40 |  0.00603136 |\n",
            "|  6 | rage     |      46 |  0.00580442 | amp     |      37 |  0.00500406 | musically |      53 |  0.00683254 | laughter  |      33 |  0.00497587 |\n",
            "|  7 | bitter   |      44 |  0.00555205 | fuming  |      33 |  0.00446308 | day       |      49 |  0.00631688 | good      |      33 |  0.00497587 |\n",
            "|  8 | get      |      42 |  0.00529968 | 2       |      31 |  0.00419259 | love      |      49 |  0.00631688 | day       |      32 |  0.00482509 |\n",
            "|  9 | one      |      38 |  0.00479495 | one     |      31 |  0.00419259 | like      |      49 |  0.00631688 | life      |      30 |  0.00452352 |\n",
            "| 10 | got      |      35 |  0.0044164  | anger   |      31 |  0.00419259 | smile     |      47 |  0.00605904 | see       |      30 |  0.00452352 |\n",
            "| 11 | revenge  |      34 |  0.00429022 | revenge |      30 |  0.00405734 | amp       |      45 |  0.00580121 | smiling   |      30 |  0.00452352 |\n",
            "| 12 | offended |      32 |  0.00403785 | bitter  |      29 |  0.0039221  | good      |      44 |  0.0056723  | make      |      30 |  0.00452352 |\n",
            "| 13 | fuming   |      30 |  0.00378549 | rage    |      29 |  0.0039221  | optimism  |      40 |  0.00515663 | optimism  |      27 |  0.00407117 |\n",
            "| 14 | u        |      27 |  0.00340694 | got     |      28 |  0.00378685 | hilarious |      38 |  0.0048988  | dont      |      27 |  0.00407117 |\n",
            "| 15 | someone  |      26 |  0.00328076 | outrage |      28 |  0.00378685 | glee      |      34 |  0.00438314 | new       |      26 |  0.00392039 |\n",
            "| 16 | cant     |      26 |  0.00328076 | going   |      25 |  0.00338112 | time      |      31 |  0.00399639 | get       |      25 |  0.0037696  |\n",
            "| 17 | think    |      26 |  0.00328076 | u       |      25 |  0.00338112 | dont      |      30 |  0.00386747 | cheer     |      24 |  0.00361882 |\n",
            "| 18 | amp      |      26 |  0.00328076 | snap    |      23 |  0.00311063 | make      |      29 |  0.00373856 | know      |      23 |  0.00346803 |\n",
            "| 19 | snap     |      25 |  0.00315457 | cant    |      22 |  0.00297539 | laughter  |      28 |  0.00360964 | time      |      23 |  0.00346803 |\n"
          ],
          "name": "stdout"
        }
      ]
    },
    {
      "cell_type": "markdown",
      "metadata": {
        "id": "5YZP6kzjEvhb"
      },
      "source": [
        "# DISTRIBUTION OF GOLD SCORES"
      ]
    },
    {
      "cell_type": "code",
      "metadata": {
        "colab": {
          "base_uri": "https://localhost:8080/",
          "height": 1000
        },
        "id": "yvBmOwR1C3Jd",
        "outputId": "193075f6-b95a-45e2-b8ea-902cbc64aac9"
      },
      "source": [
        "import seaborn as sns\n",
        "for fil in all_files:\n",
        "    name_of_file = \" \".join(fil.split('/')[-1].split('.')[0:2])\n",
        "    df = read_data(fil)\n",
        "\n",
        "    scores = np.array(df['score'])\n",
        "    ax = sns.displot(scores)\n",
        "    ax.fig.suptitle(name_of_file)\n",
        "    ax.set(xlabel='SCORE', ylabel='COUNT')\n",
        "    #ax.title(name_of_file)"
      ],
      "execution_count": 10,
      "outputs": [
        {
          "output_type": "display_data",
          "data": {
            "image/png": "[encoded data removed]",
            "text/plain": [
              "<Figure size 360x360 with 1 Axes>"
            ]
          },
          "metadata": {
            "tags": [],
            "needs_background": "light"
          }
        },
        {
          "output_type": "display_data",
          "data": {
            "image/png": "[encoded data removed]",
            "text/plain": [
              "<Figure size 360x360 with 1 Axes>"
            ]
          },
          "metadata": {
            "tags": [],
            "needs_background": "light"
          }
        },
        {
          "output_type": "display_data",
          "data": {
            "image/png": "[encoded data removed]",
            "text/plain": [
              "<Figure size 360x360 with 1 Axes>"
            ]
          },
          "metadata": {
            "tags": [],
            "needs_background": "light"
          }
        },
        {
          "output_type": "display_data",
          "data": {
            "image/png": "[encoded data removed]",
            "text/plain": [
              "<Figure size 360x360 with 1 Axes>"
            ]
          },
          "metadata": {
            "tags": [],
            "needs_background": "light"
          }
        }
      ]
    }
  ]
}